{
  "cells": [
    {
      "cell_type": "markdown",
      "metadata": {
        "id": "8J7NTL-59yRl"
      },
      "source": [
        "[![image](https://jupyterlite.rtfd.io/en/latest/_static/badge.svg)](https://demo.leafmap.org/lab/index.html?path=notebooks/52_netcdf.ipynb)\n",
        "[![image](https://studiolab.sagemaker.aws/studiolab.svg)](https://studiolab.sagemaker.aws/import/github/opengeos/leafmap/blob/master/examples/notebooks/52_netcdf.ipynb)\n",
        "[![image](https://img.shields.io/badge/Open-Planetary%20Computer-black?style=flat&logo=microsoft)](https://pccompute.westeurope.cloudapp.azure.com/compute/hub/user-redirect/git-pull?repo=https://github.com/opengeos/leafmap&urlpath=lab/tree/leafmap/examples/notebooks/52_netcdf.ipynb&branch=master)\n",
        "[![image](https://colab.research.google.com/assets/colab-badge.svg)](https://githubtocolab.com/opengeos/leafmap/blob/master/examples/notebooks/52_netcdf.ipynb)\n",
        "[![image](https://mybinder.org/badge_logo.svg)](https://mybinder.org/v2/gh/opengeos/leafmap/HEAD)\n",
        "\n",
        "**Visualizing NetCDF data**\n",
        "\n",
        "Uncomment the following line to install [leafmap](https://leafmap.org) if needed."
      ],
      "id": "8J7NTL-59yRl"
    },
    {
      "cell_type": "code",
      "execution_count": null,
      "metadata": {
        "id": "FNLBr9bf9yRn"
      },
      "outputs": [],
      "source": [
        "# !pip install leafmap"
      ],
      "id": "FNLBr9bf9yRn"
    },
    {
      "cell_type": "code",
      "execution_count": null,
      "metadata": {
        "id": "_hYnPny49yRo"
      },
      "outputs": [],
      "source": [
        "# !pip install xarray rioxarray netcdf4 localtileserver"
      ],
      "id": "_hYnPny49yRo"
    },
    {
      "cell_type": "code",
      "execution_count": null,
      "metadata": {
        "id": "sGZ0lct19yRo"
      },
      "outputs": [],
      "source": [
        "import leafmap"
      ],
      "id": "sGZ0lct19yRo"
    },
    {
      "cell_type": "markdown",
      "metadata": {
        "id": "wfA-ce1Q9yRo"
      },
      "source": [
        "Download a sample NetCDF dataset."
      ],
      "id": "wfA-ce1Q9yRo"
    },
    {
      "cell_type": "code",
      "execution_count": null,
      "metadata": {
        "id": "US_TxvxT9yRo"
      },
      "outputs": [],
      "source": [
        "url = 'https://github.com/opengeos/leafmap/raw/master/examples/data/wind_global.nc'\n",
        "filename = 'wind_global.nc'"
      ],
      "id": "US_TxvxT9yRo"
    },
    {
      "cell_type": "code",
      "execution_count": null,
      "metadata": {
        "id": "XIshAaXa9yRo"
      },
      "outputs": [],
      "source": [
        "leafmap.download_file(url, output=filename)"
      ],
      "id": "XIshAaXa9yRo"
    },
    {
      "cell_type": "markdown",
      "metadata": {
        "id": "cRToW0Vw9yRp"
      },
      "source": [
        "Read the NetCDF dataset."
      ],
      "id": "cRToW0Vw9yRp"
    },
    {
      "cell_type": "code",
      "execution_count": null,
      "metadata": {
        "id": "wI7_jP_g9yRp"
      },
      "outputs": [],
      "source": [
        "data = leafmap.read_netcdf(filename)\n",
        "data"
      ],
      "id": "wI7_jP_g9yRp"
    },
    {
      "cell_type": "markdown",
      "metadata": {
        "id": "mNeeRF9V9yRp"
      },
      "source": [
        "Convert the NetCDF dataset to GeoTIFF. Note that the longitude range of the NetCDF dataset is `[0, 360]`. We need to convert it to `[-180, 180]` by setting `shift_lon=True` so that it can be displayed on the map."
      ],
      "id": "mNeeRF9V9yRp"
    },
    {
      "cell_type": "code",
      "execution_count": null,
      "metadata": {
        "id": "f7EWAANV9yRp"
      },
      "outputs": [],
      "source": [
        "tif = 'wind_global.tif'\n",
        "leafmap.netcdf_to_tif(filename, tif, variables=['u_wind', 'v_wind'], shift_lon=True)"
      ],
      "id": "f7EWAANV9yRp"
    },
    {
      "cell_type": "markdown",
      "metadata": {
        "id": "Qi5RQt-f9yRp"
      },
      "source": [
        "Add the GeoTIFF to the map. We can also overlay the country boundary on the map."
      ],
      "id": "Qi5RQt-f9yRp"
    },
    {
      "cell_type": "code",
      "execution_count": null,
      "metadata": {
        "id": "GaN2jxaW9yRp"
      },
      "outputs": [],
      "source": [
        "geojson = 'https://github.com/opengeos/leafmap/raw/master/examples/data/countries.geojson'"
      ],
      "id": "GaN2jxaW9yRp"
    },
    {
      "cell_type": "code",
      "execution_count": null,
      "metadata": {
        "id": "ICYKaCgc9yRq"
      },
      "outputs": [],
      "source": [
        "m = leafmap.Map(layers_control=True)\n",
        "m.add_raster(tif, band=[1], palette='coolwarm', layer_name='u_wind')\n",
        "m.add_geojson(geojson, layer_name='Countries')\n",
        "m"
      ],
      "id": "ICYKaCgc9yRq"
    },
    {
      "cell_type": "markdown",
      "metadata": {
        "id": "xgkE8ugE9yRq"
      },
      "source": [
        "You can also use the `add_netcdf()` function to add the NetCDF dataset to the map without having to convert it to GeoTIFF explicitly."
      ],
      "id": "xgkE8ugE9yRq"
    },
    {
      "cell_type": "code",
      "execution_count": null,
      "metadata": {
        "id": "u0sJiW1y9yRq"
      },
      "outputs": [],
      "source": [
        "m = leafmap.Map(layers_control=True)\n",
        "m.add_netcdf(\n",
        "    filename,\n",
        "    variables=['v_wind'],\n",
        "    palette='coolwarm',\n",
        "    shift_lon=True,\n",
        "    layer_name='v_wind',\n",
        ")\n",
        "m.add_geojson(geojson, layer_name='Countries')\n",
        "m"
      ],
      "id": "u0sJiW1y9yRq"
    },
    {
      "cell_type": "markdown",
      "metadata": {
        "id": "5fnnKgTK9yRq"
      },
      "source": [
        "Visualizing wind velocity."
      ],
      "id": "5fnnKgTK9yRq"
    },
    {
      "cell_type": "code",
      "execution_count": null,
      "metadata": {
        "id": "np2trCeZ9yRq"
      },
      "outputs": [],
      "source": [
        "m = leafmap.Map(layers_control=True)\n",
        "m.add_basemap('CartoDB.DarkMatter')\n",
        "m.add_velocity(filename, zonal_speed='u_wind', meridional_speed='v_wind')\n",
        "m"
      ],
      "id": "np2trCeZ9yRq"
    },
    {
      "cell_type": "markdown",
      "metadata": {
        "id": "2mKf6IaE9yRq"
      },
      "source": [
        "![](https://i.imgur.com/oL5Mgeu.gif)"
      ],
      "id": "2mKf6IaE9yRq"
    }
  ],
  "metadata": {
    "kernelspec": {
      "display_name": "Python 3",
      "language": "python",
      "name": "python3"
    },
    "colab": {
      "provenance": []
    }
  },
  "nbformat": 4,
  "nbformat_minor": 5
}