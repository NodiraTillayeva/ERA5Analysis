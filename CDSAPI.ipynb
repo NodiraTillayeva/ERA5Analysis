{
  "nbformat": 4,
  "nbformat_minor": 0,
  "metadata": {
    "colab": {
      "provenance": [],
      "authorship_tag": "ABX9TyPG+M2xUeq+o1SU8SYd7M7S",
      "include_colab_link": true
    },
    "kernelspec": {
      "name": "python3",
      "display_name": "Python 3"
    },
    "language_info": {
      "name": "python"
    }
  },
  "cells": [
    {
      "cell_type": "markdown",
      "metadata": {
        "id": "view-in-github",
        "colab_type": "text"
      },
      "source": [
        "<a href=\"https://colab.research.google.com/github/NodiraTillayeva/ERA5Analysis/blob/main/CDSAPI.ipynb\" target=\"_parent\"><img src=\"https://colab.research.google.com/assets/colab-badge.svg\" alt=\"Open In Colab\"/></a>"
      ]
    },
    {
      "cell_type": "code",
      "source": [
        "%pip install cdsapi"
      ],
      "metadata": {
        "colab": {
          "base_uri": "https://localhost:8080/"
        },
        "id": "xs9ghg5Es4pQ",
        "outputId": "2ce73959-29d3-46a5-f178-ccb2fc5564fa"
      },
      "execution_count": 2,
      "outputs": [
        {
          "output_type": "stream",
          "name": "stdout",
          "text": [
            "Collecting cdsapi\n",
            "  Downloading cdsapi-0.6.1.tar.gz (13 kB)\n",
            "  Preparing metadata (setup.py) ... \u001b[?25l\u001b[?25hdone\n",
            "Requirement already satisfied: requests>=2.5.0 in /usr/local/lib/python3.10/dist-packages (from cdsapi) (2.31.0)\n",
            "Requirement already satisfied: tqdm in /usr/local/lib/python3.10/dist-packages (from cdsapi) (4.66.1)\n",
            "Requirement already satisfied: charset-normalizer<4,>=2 in /usr/local/lib/python3.10/dist-packages (from requests>=2.5.0->cdsapi) (3.3.2)\n",
            "Requirement already satisfied: idna<4,>=2.5 in /usr/local/lib/python3.10/dist-packages (from requests>=2.5.0->cdsapi) (3.4)\n",
            "Requirement already satisfied: urllib3<3,>=1.21.1 in /usr/local/lib/python3.10/dist-packages (from requests>=2.5.0->cdsapi) (2.0.7)\n",
            "Requirement already satisfied: certifi>=2017.4.17 in /usr/local/lib/python3.10/dist-packages (from requests>=2.5.0->cdsapi) (2023.7.22)\n",
            "Building wheels for collected packages: cdsapi\n",
            "  Building wheel for cdsapi (setup.py) ... \u001b[?25l\u001b[?25hdone\n",
            "  Created wheel for cdsapi: filename=cdsapi-0.6.1-py2.py3-none-any.whl size=12006 sha256=27c7b3f364511e5661c2d0564cad0e6ef8fbd6a05c99e1f106ddd6a9c37b996e\n",
            "  Stored in directory: /root/.cache/pip/wheels/7c/63/08/45461d6f6636c1aba7846828d8c787a064073945048f76d44a\n",
            "Successfully built cdsapi\n",
            "Installing collected packages: cdsapi\n",
            "Successfully installed cdsapi-0.6.1\n"
          ]
        }
      ]
    },
    {
      "cell_type": "code",
      "source": [
        "api_key = \"117624:09a25ea0-0db9-40ab-81b7-8986c68bc25d\"  # Replace with your actual API key\n",
        "with open(\"/root/.cdsapirc\", \"w\") as file:\n",
        "    file.write(\"url: https://cds.climate.copernicus.eu/api/v2\\n\")\n",
        "    file.write(f\"key: {api_key}\\n\")"
      ],
      "metadata": {
        "id": "IqqE0xdzvCoT"
      },
      "execution_count": 6,
      "outputs": []
    },
    {
      "cell_type": "code",
      "execution_count": 7,
      "metadata": {
        "colab": {
          "base_uri": "https://localhost:8080/"
        },
        "id": "9iuK7icesywY",
        "outputId": "b4098cd0-eb07-4480-c1c6-c82995aab5c9"
      },
      "outputs": [
        {
          "output_type": "stream",
          "name": "stderr",
          "text": [
            "2023-11-22 06:40:38,416 INFO Welcome to the CDS\n",
            "INFO:cdsapi:Welcome to the CDS\n",
            "2023-11-22 06:40:38,420 INFO Sending request to https://cds.climate.copernicus.eu/api/v2/resources/reanalysis-era5-land-monthly-means\n",
            "INFO:cdsapi:Sending request to https://cds.climate.copernicus.eu/api/v2/resources/reanalysis-era5-land-monthly-means\n",
            "2023-11-22 06:40:38,888 INFO Request is completed\n",
            "INFO:cdsapi:Request is completed\n",
            "2023-11-22 06:40:38,891 INFO Downloading https://download-0002-clone.copernicus-climate.eu/cache-compute-0002/cache/data3/adaptor.mars.internal-1700552126.2349083-15238-2-18591e49-4deb-4c92-85b8-bb4d08cc5a23.zip to download.netcdf.zip (33.2K)\n",
            "INFO:cdsapi:Downloading https://download-0002-clone.copernicus-climate.eu/cache-compute-0002/cache/data3/adaptor.mars.internal-1700552126.2349083-15238-2-18591e49-4deb-4c92-85b8-bb4d08cc5a23.zip to download.netcdf.zip (33.2K)\n",
            "2023-11-22 06:40:40,905 INFO Download rate 16.5K/s\n",
            "INFO:cdsapi:Download rate 16.5K/s\n"
          ]
        },
        {
          "output_type": "execute_result",
          "data": {
            "text/plain": [
              "Result(content_length=33974,content_type=application/zip,location=https://download-0002-clone.copernicus-climate.eu/cache-compute-0002/cache/data3/adaptor.mars.internal-1700552126.2349083-15238-2-18591e49-4deb-4c92-85b8-bb4d08cc5a23.zip)"
            ]
          },
          "metadata": {},
          "execution_count": 7
        }
      ],
      "source": [
        "import cdsapi\n",
        "\n",
        "c = cdsapi.Client()\n",
        "\n",
        "c.retrieve(\n",
        "    'reanalysis-era5-land-monthly-means',\n",
        "    {\n",
        "        'product_type': 'monthly_averaged_reanalysis',\n",
        "        'variable': [\n",
        "            'leaf_area_index_high_vegetation', 'leaf_area_index_low_vegetation',\n",
        "        ],\n",
        "        'year': '2023',\n",
        "        'month': '10',\n",
        "        'time': '00:00',\n",
        "        'area': [\n",
        "            45.59, 55.99, 37.18,\n",
        "            73.13,\n",
        "        ],\n",
        "        'format': 'netcdf.zip',\n",
        "    },\n",
        "    'download.netcdf.zip')"
      ]
    },
    {
      "cell_type": "code",
      "source": [],
      "metadata": {
        "id": "_461ZppctFpA"
      },
      "execution_count": null,
      "outputs": []
    }
  ]
}